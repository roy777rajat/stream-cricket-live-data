{
 "cells": [
  {
   "cell_type": "markdown",
   "metadata": {},
   "source": [
    "## 1. Spark Session Configuration with Delta Lake and S3 Support"
   ]
  },
  {
   "cell_type": "code",
   "execution_count": 79,
   "metadata": {},
   "outputs": [],
   "source": [
    "from pyspark.sql import SparkSession\n",
    "\n",
    "spark = SparkSession.builder \\\n",
    "    .appName(\"CricketDeltaPipeline\") \\\n",
    "    .config(\"spark.jars\", \",\".join([\n",
    "        r\"C:\\\\spark\\\\spark-3.5.5-bin-hadoop3\\\\jars\\\\delta-core_2.12-3.1.0.jar\",\n",
    "        r\"C:\\\\spark\\\\spark-3.5.5-bin-hadoop3\\\\jars\\\\delta-storage-3.1.0.jar\",\n",
    "        r\"C:\\\\spark\\\\spark-3.5.5-bin-hadoop3\\\\jars\\\\hadoop-aws-3.3.4.jar\",\n",
    "        r\"C:\\\\spark\\\\spark-3.5.5-bin-hadoop3\\\\jars\\\\aws-java-sdk-bundle-1.12.430.jar\"\n",
    "    ])) \\\n",
    "    .config(\"spark.sql.extensions\", \"io.delta.sql.DeltaSparkSessionExtension\") \\\n",
    "    .config(\"spark.sql.catalog.spark_catalog\", \"org.apache.spark.sql.delta.catalog.DeltaCatalog\") \\\n",
    "    .config(\"spark.hadoop.fs.s3a.impl\", \"org.apache.hadoop.fs.s3a.S3AFileSystem\") \\\n",
    "    .config(\"spark.hadoop.fs.s3a.aws.credentials.provider\", \"com.amazonaws.auth.DefaultAWSCredentialsProviderChain\") \\\n",
    "    .getOrCreate()"
   ]
  },
  {
   "cell_type": "markdown",
   "metadata": {},
   "source": [
    "## 2. Read Raw Parquet from S3"
   ]
  },
  {
   "cell_type": "code",
   "execution_count": 80,
   "metadata": {},
   "outputs": [],
   "source": [
    "from datetime import datetime\n",
    "import pyspark.sql.functions as F\n",
    "\n",
    "now = datetime.utcnow()\n",
    "s3_path = f\"s3a://aws-glue-assets-cricket/raw_cricket_data/year={now.year}/month={now.strftime('%m')}/*/*/\"\n",
    "df = spark.read.parquet(s3_path)\n",
    "df = df.withColumn(\"event_time_ts\", F.to_timestamp(\"event_time\"))"
   ]
  },
  {
   "cell_type": "markdown",
   "metadata": {},
   "source": [
    "## 3. Deduplicate Rows by ID + Latest Timestamp"
   ]
  },
  {
   "cell_type": "code",
   "execution_count": 81,
   "metadata": {},
   "outputs": [],
   "source": [
    "from pyspark.sql.window import Window\n",
    "\n",
    "window_spec = Window.partitionBy(\"id\").orderBy(F.col(\"event_time_ts\").desc())\n",
    "df = df.withColumn(\"row_num\", F.row_number().over(window_spec))\n",
    "latest_df = df.filter(F.col(\"row_num\") == 1).drop(\"row_num\")"
   ]
  },
  {
   "cell_type": "markdown",
   "metadata": {},
   "source": [
    "## 4. Add Match Status Based on JSON Column"
   ]
  },
  {
   "cell_type": "code",
   "execution_count": 82,
   "metadata": {},
   "outputs": [],
   "source": [
    "from pyspark.sql.types import StructType, StructField, StringType, ArrayType\n",
    "\n",
    "json_schema_status = StructType([\n",
    "    StructField(\"matchStarted\", StringType(), True),\n",
    "    StructField(\"matchEnded\", StringType(), True),\n",
    "    StructField(\"score\", ArrayType(StringType()), True)\n",
    "])\n",
    "\n",
    "latest_df = latest_df.withColumn(\"json_data_parsed\", F.from_json(F.col(\"json_data\"), json_schema_status))\n",
    "latest_df = latest_df.withColumn(\"match_status\", F.when(\n",
    "    (F.col(\"json_data_parsed.matchStarted\") == \"true\") &\n",
    "    (F.col(\"json_data_parsed.matchEnded\") == \"false\") &\n",
    "    (F.size(F.col(\"json_data_parsed.score\")) > 0), \"Live\")\n",
    "    .when((F.col(\"json_data_parsed.matchStarted\") == \"true\") &\n",
    "          (F.col(\"json_data_parsed.matchEnded\") == \"false\") &\n",
    "          (F.size(F.col(\"json_data_parsed.score\")) == 0), \"Upcoming\")\n",
    "    .when((F.col(\"json_data_parsed.matchEnded\") == \"true\"), \"Completed\")\n",
    "    .otherwise(\"Unknown\")\n",
    ")"
   ]
  },
  {
   "cell_type": "code",
   "execution_count": 83,
   "id": "d75d3714",
   "metadata": {},
   "outputs": [
    {
     "name": "stdout",
     "output_type": "stream",
     "text": [
      "+------------------------------------+---------------------------------------------------------------+---------+--------------------------+-----------------------+--------------------------------------------------------------------------------------------------------------------------------------------------------------------------------------------------------------------------------------------------------------------------------------------------------------------------------------------------------------------------------------------------------------------------------------------------------------------------------------------------------------------------------------------------------------------------------------------------------------------------------------------------------------------------------------------------------------------------------------------------------------------------------------------------------------------------------------------------------------------------------------------------------------------------------------------------------------------------------------------------------------------------------------------------------------------------+--------------------------+--------------------------------------------------------------------------------------------------------------------------------------------------------------------------------------------------------------------------------------------------+------------+\n",
      "|id                                  |name                                                           |matchType|event_time                |ingested_at            |json_data                                                                                                                                                                                                                                                                                                                                                                                                                                                                                                                                                                                                                                                                                                                                                                                                                                                                                                                                                                                                                                                                 |event_time_ts             |json_data_parsed                                                                                                                                                                                                                                  |match_status|\n",
      "+------------------------------------+---------------------------------------------------------------+---------+--------------------------+-----------------------+--------------------------------------------------------------------------------------------------------------------------------------------------------------------------------------------------------------------------------------------------------------------------------------------------------------------------------------------------------------------------------------------------------------------------------------------------------------------------------------------------------------------------------------------------------------------------------------------------------------------------------------------------------------------------------------------------------------------------------------------------------------------------------------------------------------------------------------------------------------------------------------------------------------------------------------------------------------------------------------------------------------------------------------------------------------------------+--------------------------+--------------------------------------------------------------------------------------------------------------------------------------------------------------------------------------------------------------------------------------------------+------------+\n",
      "|1de1d3be-3e80-40fd-b4d0-f34533378305|Glamorgan vs Gloucestershire, 36th Match                       |test     |2025-07-01 20:54:35.784689|2025-07-01 19:55:43.815|{\"event_time\": \"2025-07-01T19:54:35.784689\", \"match_id\": \"1de1d3be-3e80-40fd-b4d0-f34533378305\", \"match_name\": \"Glamorgan vs Gloucestershire, 36th Match\", \"match_type\": \"test\", \"status\": \"Day 3: Stumps - Gloucestershire trail by 136 runs\", \"venue\": \"Sophia Gardens, Cardiff\", \"date\": \"2025-06-29\", \"dateTimeGMT\": \"2025-06-29T10:00:00\", \"teams\": [\"Glamorgan\", \"Gloucestershire\"], \"teamInfo\": [{\"name\": \"Glamorgan\", \"shortname\": \"GLAM\", \"img\": \"https://g.cricapi.com/iapi/1120-637889090390357869.webp?w=48\"}, {\"name\": \"Gloucestershire\", \"shortname\": \"GLOU\", \"img\": \"https://g.cricapi.com/iapi/1121-637885550747990018.webp?w=48\"}], \"score\": [{\"r\": 380, \"w\": 10, \"o\": 120.1, \"inning\": \"Gloucestershire Inning 1\"}, {\"r\": 528, \"w\": 10, \"o\": 151.1, \"inning\": \"Glamorgan Inning 1\"}, {\"r\": 12, \"w\": 0, \"o\": 11, \"inning\": \"Gloucestershire Inning 2\"}], \"series_id\": \"4cdcd4af-0d19-439d-afc3-c2e75d8a8e53\", \"fantasyEnabled\": true, \"bbbEnabled\": false, \"hasSquad\": true, \"matchStarted\": true, \"matchEnded\": false}                                  |2025-07-01 20:54:35.784689|{true, false, [{\"r\":380,\"w\":10,\"o\":120.1,\"inning\":\"Gloucestershire Inning 1\"}, {\"r\":528,\"w\":10,\"o\":151.1,\"inning\":\"Glamorgan Inning 1\"}, {\"r\":12,\"w\":0,\"o\":11,\"inning\":\"Gloucestershire Inning 2\"}]}                                              |Live        |\n",
      "|38876f9c-c907-42f2-bc77-41a678b13f42|England Women vs India Women, 2nd T20I                         |t20      |2025-07-01 20:54:35.784689|2025-07-01 19:55:43.815|{\"event_time\": \"2025-07-01T19:54:35.784689\", \"match_id\": \"38876f9c-c907-42f2-bc77-41a678b13f42\", \"match_name\": \"England Women vs India Women, 2nd T20I\", \"match_type\": \"t20\", \"status\": \"England Women need 106 runs in 60 balls\", \"venue\": \"County Ground, Bristol\", \"date\": \"2025-07-01\", \"dateTimeGMT\": \"2025-07-01T17:30:00\", \"teams\": [\"England Women\", \"India Women\"], \"teamInfo\": [{\"name\": \"England Women\", \"shortname\": \"ENGW\", \"img\": \"https://g.cricapi.com/iapi/24-637877067109151578.webp?w=48\"}, {\"name\": \"India Women\", \"shortname\": \"INDW\", \"img\": \"https://g.cricapi.com/iapi/32-637877061328728555.webp?w=48\"}], \"score\": [{\"r\": 181, \"w\": 4, \"o\": 20, \"inning\": \"India Women Inning 1\"}, {\"r\": 76, \"w\": 3, \"o\": 10, \"inning\": \"England Women Inning 1\"}], \"series_id\": \"40100bbd-49c9-40e5-87d5-92866692b620\", \"fantasyEnabled\": true, \"bbbEnabled\": true, \"hasSquad\": true, \"matchStarted\": true, \"matchEnded\": false}                                                                                                                                |2025-07-01 20:54:35.784689|{true, false, [{\"r\":181,\"w\":4,\"o\":20,\"inning\":\"India Women Inning 1\"}, {\"r\":76,\"w\":3,\"o\":10,\"inning\":\"England Women Inning 1\"}]}                                                                                                                  |Live        |\n",
      "|3a0341c7-6df0-4b5c-8d1e-7911a78a1fa1|Chepauk Super Gillies vs IDream Tiruppur Tamizhans, Qualifier 1|t20      |2025-07-01 20:54:35.784689|2025-07-01 19:55:43.815|{\"event_time\": \"2025-07-01T19:54:35.784689\", \"match_id\": \"3a0341c7-6df0-4b5c-8d1e-7911a78a1fa1\", \"match_name\": \"Chepauk Super Gillies vs IDream Tiruppur Tamizhans, Qualifier 1\", \"match_type\": \"t20\", \"status\": \"IDream Tiruppur Tamizhans won by 79 runs\", \"venue\": \"NPR College Ground, Dindigul\", \"date\": \"2025-07-01\", \"dateTimeGMT\": \"2025-07-01T13:45:00\", \"teams\": [\"Chepauk Super Gillies\", \"IDream Tiruppur Tamizhans\"], \"teamInfo\": [{\"name\": \"Chepauk Super Gillies\", \"shortname\": \"CSG\", \"img\": \"https://g.cricapi.com/iapi/136-637957472174708637.webp?w=48\"}, {\"name\": \"IDream Tiruppur Tamizhans\", \"shortname\": \"ITT\", \"img\": \"https://g.cricapi.com/iapi/181-637945148142038694.webp?w=48\"}], \"score\": [{\"r\": 202, \"w\": 5, \"o\": 20, \"inning\": \"IDream Tiruppur Tamizhans Inning 1\"}, {\"r\": 123, \"w\": 10, \"o\": 16.1, \"inning\": \"Chepauk Super Gillies Inning 1\"}], \"series_id\": \"dcc2c889-6c5b-43b8-919c-8f101ccb6edd\", \"fantasyEnabled\": true, \"bbbEnabled\": true, \"hasSquad\": true, \"matchStarted\": true, \"matchEnded\": true}                           |2025-07-01 20:54:35.784689|{true, true, [{\"r\":202,\"w\":5,\"o\":20,\"inning\":\"IDream Tiruppur Tamizhans Inning 1\"}, {\"r\":123,\"w\":10,\"o\":16.1,\"inning\":\"Chepauk Super Gillies Inning 1\"}]}                                                                                         |Completed   |\n",
      "|3cbf58b2-a489-4e5f-b20f-d8724147b180|Somerset vs Nottinghamshire, 43rd Match                        |test     |2025-07-01 20:54:35.784689|2025-07-01 19:55:43.815|{\"event_time\": \"2025-07-01T19:54:35.784689\", \"match_id\": \"3cbf58b2-a489-4e5f-b20f-d8724147b180\", \"match_name\": \"Somerset vs Nottinghamshire, 43rd Match\", \"match_type\": \"test\", \"status\": \"Day 3: Stumps - Somerset trail by 126 runs\", \"venue\": \"The Cooper Associates County Ground, Taunton\", \"date\": \"2025-06-29\", \"dateTimeGMT\": \"2025-06-29T10:00:00\", \"teams\": [\"Somerset\", \"Nottinghamshire\"], \"teamInfo\": [{\"name\": \"Nottinghamshire\", \"shortname\": \"NOT\", \"img\": \"https://g.cricapi.com/iapi/1130-637889092060873937.webp?w=48\"}, {\"name\": \"Somerset\", \"shortname\": \"SOM\", \"img\": \"https://g.cricapi.com/iapi/1131-637885552070524344.webp?w=48\"}], \"score\": [{\"r\": 379, \"w\": 10, \"o\": 119, \"inning\": \"Somerset Inning 1\"}, {\"r\": 509, \"w\": 10, \"o\": 163.2, \"inning\": \"Nottinghamshire Inning 1\"}, {\"r\": 4, \"w\": 1, \"o\": 1, \"inning\": \"Somerset Inning 2\"}], \"series_id\": \"9362b075-d007-478c-b4a9-e08b9306caef\", \"fantasyEnabled\": true, \"bbbEnabled\": false, \"hasSquad\": true, \"matchStarted\": true, \"matchEnded\": false}                                     |2025-07-01 20:54:35.784689|{true, false, [{\"r\":379,\"w\":10,\"o\":119,\"inning\":\"Somerset Inning 1\"}, {\"r\":509,\"w\":10,\"o\":163.2,\"inning\":\"Nottinghamshire Inning 1\"}, {\"r\":4,\"w\":1,\"o\":1,\"inning\":\"Somerset Inning 2\"}]}                                                          |Live        |\n",
      "|67dbcde6-f3ba-4749-87ad-b6f346a6aa35|Sussex vs Warwickshire, 45th Match                             |test     |2025-07-01 20:54:35.784689|2025-07-01 19:55:43.815|{\"event_time\": \"2025-07-01T19:54:35.784689\", \"match_id\": \"67dbcde6-f3ba-4749-87ad-b6f346a6aa35\", \"match_name\": \"Sussex vs Warwickshire, 45th Match\", \"match_type\": \"test\", \"status\": \"Day 3: Stumps - Warwickshire trail by 30 runs\", \"venue\": \"County Ground, Hove\", \"date\": \"2025-06-29\", \"dateTimeGMT\": \"2025-06-29T10:00:00\", \"teams\": [\"Sussex\", \"Warwickshire\"], \"teamInfo\": [{\"name\": \"Sussex\", \"shortname\": \"SUSS\", \"img\": \"https://g.cricapi.com/iapi/1134-637889091814592518.webp?w=48\"}, {\"name\": \"Warwickshire\", \"shortname\": \"WRKS\", \"img\": \"https://g.cricapi.com/iapi/1137-637885552592685258.webp?w=48\"}], \"score\": [{\"r\": 415, \"w\": 10, \"o\": 107.5, \"inning\": \"Warwickshire Inning 1\"}, {\"r\": 533, \"w\": 10, \"o\": 151.4, \"inning\": \"Sussex Inning 1\"}, {\"r\": 88, \"w\": 1, \"o\": 24, \"inning\": \"Warwickshire Inning 2\"}], \"series_id\": \"9362b075-d007-478c-b4a9-e08b9306caef\", \"fantasyEnabled\": true, \"bbbEnabled\": false, \"hasSquad\": true, \"matchStarted\": true, \"matchEnded\": false}                                                                     |2025-07-01 20:54:35.784689|{true, false, [{\"r\":415,\"w\":10,\"o\":107.5,\"inning\":\"Warwickshire Inning 1\"}, {\"r\":533,\"w\":10,\"o\":151.4,\"inning\":\"Sussex Inning 1\"}, {\"r\":88,\"w\":1,\"o\":24,\"inning\":\"Warwickshire Inning 2\"}]}                                                       |Live        |\n",
      "|76c6e1d3-0b76-4119-a6aa-51a648afee3d|Leicestershire vs Middlesex, 33rd Match                        |test     |2025-07-01 16:42:36.736365|2025-07-01 15:43:30.432|{\"event_time\": \"2025-07-01T15:42:36.736365\", \"match_id\": \"76c6e1d3-0b76-4119-a6aa-51a648afee3d\", \"match_name\": \"Leicestershire vs Middlesex, 33rd Match\", \"match_type\": \"test\", \"status\": \"Day 3: Tea Break - Leicestershire trail by 249 runs\", \"venue\": \"Grace Road, Leicester\", \"date\": \"2025-06-29\", \"dateTimeGMT\": \"2025-06-29T10:00:00\", \"teams\": [\"Leicestershire\", \"Middlesex\"], \"teamInfo\": [{\"name\": \"Leicestershire\", \"shortname\": \"LECS\", \"img\": \"https://g.cricapi.com/iapi/1126-637889090878436462.webp?w=48\"}, {\"name\": \"Middlesex\", \"shortname\": \"MDX\", \"img\": \"https://g.cricapi.com/iapi/1127-637889091340507643.webp?w=48\"}], \"score\": [{\"r\": 534, \"w\": 10, \"o\": 154.3, \"inning\": \"Middlesex Inning 1\"}, {\"r\": 205, \"w\": 10, \"o\": 74, \"inning\": \"Leicestershire Inning 1\"}, {\"r\": 80, \"w\": 6, \"o\": 27, \"inning\": \"Middlesex Inning 2\"}], \"series_id\": \"4cdcd4af-0d19-439d-afc3-c2e75d8a8e53\", \"fantasyEnabled\": true, \"bbbEnabled\": false, \"hasSquad\": true, \"matchStarted\": true, \"matchEnded\": false}                                                |2025-07-01 16:42:36.736365|{true, false, [{\"r\":534,\"w\":10,\"o\":154.3,\"inning\":\"Middlesex Inning 1\"}, {\"r\":205,\"w\":10,\"o\":74,\"inning\":\"Leicestershire Inning 1\"}, {\"r\":80,\"w\":6,\"o\":27,\"inning\":\"Middlesex Inning 2\"}]}                                                        |Live        |\n",
      "|9a64082c-3342-4ffb-88c4-ffd21e95ea4d|Surrey vs Durham, 42nd Match                                   |test     |2025-07-01 20:54:35.784689|2025-07-01 19:55:43.815|{\"event_time\": \"2025-07-01T19:54:35.784689\", \"match_id\": \"9a64082c-3342-4ffb-88c4-ffd21e95ea4d\", \"match_name\": \"Surrey vs Durham, 42nd Match\", \"match_type\": \"test\", \"status\": \"Day 3: Stumps - Durham trail by 477 runs\", \"venue\": \"Kennington Oval, London\", \"date\": \"2025-06-29\", \"dateTimeGMT\": \"2025-06-29T10:00:00\", \"teams\": [\"Surrey\", \"Durham\"], \"teamInfo\": [{\"name\": \"Durham\", \"shortname\": \"DURH\", \"img\": \"https://g.cricapi.com/iapi/1118-637889090599643548.webp?w=48\"}, {\"name\": \"Surrey\", \"shortname\": \"SUR\", \"img\": \"https://g.cricapi.com/iapi/1133-637885552361099530.webp?w=48\"}], \"score\": [{\"r\": 820, \"w\": 9, \"o\": 161.3, \"inning\": \"Surrey Inning 1\"}, {\"r\": 343, \"w\": 9, \"o\": 124, \"inning\": \"Durham Inning 1\"}], \"series_id\": \"9362b075-d007-478c-b4a9-e08b9306caef\", \"fantasyEnabled\": true, \"bbbEnabled\": false, \"hasSquad\": true, \"matchStarted\": true, \"matchEnded\": false}                                                                                                                                                                  |2025-07-01 20:54:35.784689|{true, false, [{\"r\":820,\"w\":9,\"o\":161.3,\"inning\":\"Surrey Inning 1\"}, {\"r\":343,\"w\":9,\"o\":124,\"inning\":\"Durham Inning 1\"}]}                                                                                                                         |Live        |\n",
      "|b10d079c-2321-47f6-bed0-a9dc8e5878db|Texas Super Kings vs MI New York, 21st Match                   |t20      |2025-07-01 16:42:36.736365|2025-07-01 15:43:30.432|{\"event_time\": \"2025-07-01T15:42:36.736365\", \"match_id\": \"b10d079c-2321-47f6-bed0-a9dc8e5878db\", \"match_name\": \"Texas Super Kings vs MI New York, 21st Match\", \"match_type\": \"t20\", \"status\": \"Texas Super Kings won by 39 runs\", \"venue\": \"Grand Prairie Stadium, Dallas\", \"date\": \"2025-06-30\", \"dateTimeGMT\": \"2025-06-30T00:00:00\", \"teams\": [\"Texas Super Kings\", \"MI New York\"], \"teamInfo\": [{\"name\": \"Mi New York\", \"shortname\": \"MNY\", \"img\": \"https://h.cricapi.com/img/icon512.png\"}, {\"name\": \"Texas Super Kings\", \"shortname\": \"TSK\", \"img\": \"https://h.cricapi.com/img/icon512.png\"}], \"score\": [{\"r\": 223, \"w\": 4, \"o\": 20, \"inning\": \"Texas Super Kings Inning 1\"}, {\"r\": 184, \"w\": 9, \"o\": 20, \"inning\": \"MI New York Inning 1\"}], \"series_id\": \"5f750f13-3544-4f5e-aa4a-b5efdfbed824\", \"fantasyEnabled\": true, \"bbbEnabled\": true, \"hasSquad\": true, \"matchStarted\": true, \"matchEnded\": true}                                                                                                                                                          |2025-07-01 16:42:36.736365|{true, true, [{\"r\":223,\"w\":4,\"o\":20,\"inning\":\"Texas Super Kings Inning 1\"}, {\"r\":184,\"w\":9,\"o\":20,\"inning\":\"MI New York Inning 1\"}]}                                                                                                              |Completed   |\n",
      "|c4ec9ea8-70c0-4f7a-85d3-f5358b3e8f61|Zimbabwe vs South Africa, 1st Test                             |test     |2025-07-01 16:42:36.736365|2025-07-01 15:43:30.432|{\"event_time\": \"2025-07-01T15:42:36.736365\", \"match_id\": \"c4ec9ea8-70c0-4f7a-85d3-f5358b3e8f61\", \"match_name\": \"Zimbabwe vs South Africa, 1st Test\", \"match_type\": \"test\", \"status\": \"Day 4: 2nd Session - Zimbabwe need 333 runs\", \"venue\": \"Queens Sports Club, Bulawayo\", \"date\": \"2025-06-28\", \"dateTimeGMT\": \"2025-06-28T08:00:00\", \"teams\": [\"Zimbabwe\", \"South Africa\"], \"teamInfo\": [{\"name\": \"South Africa\", \"shortname\": \"RSA\", \"img\": \"https://g.cricapi.com/iapi/82-637877071839088912.webp?w=48\"}, {\"name\": \"Zimbabwe\", \"shortname\": \"ZIM\", \"img\": \"https://g.cricapi.com/iapi/575-637877079629985215.webp?w=48\"}], \"score\": [{\"r\": 418, \"w\": 9, \"o\": 90, \"inning\": \"South Africa Inning 1\"}, {\"r\": 251, \"w\": 10, \"o\": 67.4, \"inning\": \"Zimbabwe Inning 1\"}, {\"r\": 369, \"w\": 10, \"o\": 82.5, \"inning\": \"South Africa Inning 2\"}, {\"r\": 204, \"w\": 9, \"o\": 65.3, \"inning\": \"Zimbabwe Inning 2\"}], \"series_id\": \"a943b66c-1ae8-47be-8f3a-25e3745c788a\", \"fantasyEnabled\": true, \"bbbEnabled\": false, \"hasSquad\": true, \"matchStarted\": true, \"matchEnded\": true} |2025-07-01 16:42:36.736365|{true, true, [{\"r\":418,\"w\":9,\"o\":90,\"inning\":\"South Africa Inning 1\"}, {\"r\":251,\"w\":10,\"o\":67.4,\"inning\":\"Zimbabwe Inning 1\"}, {\"r\":369,\"w\":10,\"o\":82.5,\"inning\":\"South Africa Inning 2\"}, {\"r\":204,\"w\":9,\"o\":65.3,\"inning\":\"Zimbabwe Inning 2\"}]}|Completed   |\n",
      "|ccc40b0e-5b08-499f-bfc1-c5e1108ce530|Yorkshire vs Essex, 41st Match                                 |test     |2025-07-01 20:54:35.784689|2025-07-01 19:55:43.815|{\"event_time\": \"2025-07-01T19:54:35.784689\", \"match_id\": \"ccc40b0e-5b08-499f-bfc1-c5e1108ce530\", \"match_name\": \"Yorkshire vs Essex, 41st Match\", \"match_type\": \"test\", \"status\": \"Day 3: Stumps - Essex trail by 58 runs\", \"venue\": \"York Cricket Club, York\", \"date\": \"2025-06-29\", \"dateTimeGMT\": \"2025-06-29T10:00:00\", \"teams\": [\"Yorkshire\", \"Essex\"], \"teamInfo\": [{\"name\": \"Essex\", \"shortname\": \"ESX\", \"img\": \"https://g.cricapi.com/iapi/1119-637885549753088458.webp?w=48\"}, {\"name\": \"Yorkshire\", \"shortname\": \"YRK\", \"img\": \"https://g.cricapi.com/iapi/1139-637885552795894277.webp?w=48\"}], \"score\": [{\"r\": 368, \"w\": 10, \"o\": 136, \"inning\": \"Essex Inning 1\"}, {\"r\": 459, \"w\": 10, \"o\": 131.2, \"inning\": \"Yorkshire Inning 1\"}, {\"r\": 33, \"w\": 3, \"o\": 16, \"inning\": \"Essex Inning 2\"}], \"series_id\": \"9362b075-d007-478c-b4a9-e08b9306caef\", \"fantasyEnabled\": true, \"bbbEnabled\": false, \"hasSquad\": true, \"matchStarted\": true, \"matchEnded\": false}                                                                                                   |2025-07-01 20:54:35.784689|{true, false, [{\"r\":368,\"w\":10,\"o\":136,\"inning\":\"Essex Inning 1\"}, {\"r\":459,\"w\":10,\"o\":131.2,\"inning\":\"Yorkshire Inning 1\"}, {\"r\":33,\"w\":3,\"o\":16,\"inning\":\"Essex Inning 2\"}]}                                                                    |Live        |\n",
      "|ccf30b3d-ddf5-4496-a108-9f1f3827243e|Kent vs Northamptonshire, 34th Match                           |test     |2025-07-01 20:54:35.784689|2025-07-01 19:55:43.815|{\"event_time\": \"2025-07-01T19:54:35.784689\", \"match_id\": \"ccf30b3d-ddf5-4496-a108-9f1f3827243e\", \"match_name\": \"Kent vs Northamptonshire, 34th Match\", \"match_type\": \"test\", \"status\": \"Day 3: Stumps - Northamptonshire lead by 58 runs\", \"venue\": \"St Lawrence Ground, Canterbury\", \"date\": \"2025-06-29\", \"dateTimeGMT\": \"2025-06-29T10:00:00\", \"teams\": [\"Kent\", \"Northamptonshire\"], \"teamInfo\": [{\"name\": \"Kent\", \"shortname\": \"KENT\", \"img\": \"https://g.cricapi.com/iapi/1124-637885551212175895.webp?w=48\"}, {\"name\": \"Northamptonshire\", \"shortname\": \"NOR\", \"img\": \"https://g.cricapi.com/iapi/1129-637885551856435418.webp?w=48\"}], \"score\": [{\"r\": 566, \"w\": 8, \"o\": 155.5, \"inning\": \"Kent Inning 1\"}, {\"r\": 624, \"w\": 6, \"o\": 132, \"inning\": \"Northamptonshire Inning 1\"}], \"series_id\": \"4cdcd4af-0d19-439d-afc3-c2e75d8a8e53\", \"fantasyEnabled\": true, \"bbbEnabled\": false, \"hasSquad\": true, \"matchStarted\": true, \"matchEnded\": false}                                                                                                                   |2025-07-01 20:54:35.784689|{true, false, [{\"r\":566,\"w\":8,\"o\":155.5,\"inning\":\"Kent Inning 1\"}, {\"r\":624,\"w\":6,\"o\":132,\"inning\":\"Northamptonshire Inning 1\"}]}                                                                                                                 |Live        |\n",
      "|e8f95010-b54f-4546-9404-079f13863102|Derbyshire vs Lancashire, 35th Match                           |test     |2025-07-01 20:54:35.784689|2025-07-01 19:55:43.815|{\"event_time\": \"2025-07-01T19:54:35.784689\", \"match_id\": \"e8f95010-b54f-4546-9404-079f13863102\", \"match_name\": \"Derbyshire vs Lancashire, 35th Match\", \"match_type\": \"test\", \"status\": \"Day 3: Stumps - Derbyshire need 374 runs\", \"venue\": \"Queen's Park, Chesterfield\", \"date\": \"2025-06-29\", \"dateTimeGMT\": \"2025-06-29T10:00:00\", \"teams\": [\"Derbyshire\", \"Lancashire\"], \"teamInfo\": [{\"name\": \"Derbyshire\", \"shortname\": \"DERB\", \"img\": \"https://g.cricapi.com/iapi/1117-637889091569915358.webp?w=48\"}, {\"name\": \"Lancashire\", \"shortname\": \"LNCS\", \"img\": \"https://g.cricapi.com/iapi/1125-637885551497331567.webp?w=48\"}], \"score\": [{\"r\": 367, \"w\": 10, \"o\": 93.2, \"inning\": \"Lancashire Inning 1\"}, {\"r\": 261, \"w\": 10, \"o\": 67, \"inning\": \"Derbyshire Inning 1\"}, {\"r\": 406, \"w\": 6, \"o\": 73.5, \"inning\": \"Lancashire Inning 2\"}, {\"r\": 139, \"w\": 3, \"o\": 47, \"inning\": \"Derbyshire Inning 2\"}], \"series_id\": \"4cdcd4af-0d19-439d-afc3-c2e75d8a8e53\", \"fantasyEnabled\": true, \"bbbEnabled\": false, \"hasSquad\": true, \"matchStarted\": true, \"matchEnded\": false}|2025-07-01 20:54:35.784689|{true, false, [{\"r\":367,\"w\":10,\"o\":93.2,\"inning\":\"Lancashire Inning 1\"}, {\"r\":261,\"w\":10,\"o\":67,\"inning\":\"Derbyshire Inning 1\"}, {\"r\":406,\"w\":6,\"o\":73.5,\"inning\":\"Lancashire Inning 2\"}, {\"r\":139,\"w\":3,\"o\":47,\"inning\":\"Derbyshire Inning 2\"}]} |Live        |\n",
      "|f554c399-9231-4520-b3a3-c01b40a65a81|England U19 vs India U19, 2nd Youth ODI                        |odi      |2025-07-01 16:42:36.736365|2025-07-01 15:43:30.432|{\"event_time\": \"2025-07-01T15:42:36.736365\", \"match_id\": \"f554c399-9231-4520-b3a3-c01b40a65a81\", \"match_name\": \"England U19 vs India U19, 2nd Youth ODI\", \"match_type\": \"odi\", \"status\": \"England U19 won by 1 wkt\", \"venue\": \"County Ground, Northampton\", \"date\": \"2025-06-30\", \"dateTimeGMT\": \"2025-06-30T10:00:00\", \"teams\": [\"England U19\", \"India U19\"], \"teamInfo\": [{\"name\": \"England U19\", \"shortname\": \"ENG\", \"img\": \"https://g.cricapi.com/iapi/23-637877072894080569.webp?w=48\"}, {\"name\": \"India U19\", \"shortname\": \"IN19\", \"img\": \"https://h.cricapi.com/img/icon512.png\"}], \"score\": [{\"r\": 290, \"w\": 10, \"o\": 49, \"inning\": \"India U19 Inning 1\"}, {\"r\": 291, \"w\": 9, \"o\": 49.3, \"inning\": \"England U19 Inning 1\"}], \"series_id\": \"0a63fdcd-6f02-482d-8312-e819d0e892ed\", \"fantasyEnabled\": true, \"bbbEnabled\": true, \"hasSquad\": true, \"matchStarted\": true, \"matchEnded\": true}                                                                                                                                                                         |2025-07-01 16:42:36.736365|{true, true, [{\"r\":290,\"w\":10,\"o\":49,\"inning\":\"India U19 Inning 1\"}, {\"r\":291,\"w\":9,\"o\":49.3,\"inning\":\"England U19 Inning 1\"}]}                                                                                                                   |Completed   |\n",
      "|fdf5b8f1-61fa-442c-80e3-33f287eeebe3|Hampshire vs Worcestershire, 44th Match                        |test     |2025-07-01 20:54:35.784689|2025-07-01 19:55:43.815|{\"event_time\": \"2025-07-01T19:54:35.784689\", \"match_id\": \"fdf5b8f1-61fa-442c-80e3-33f287eeebe3\", \"match_name\": \"Hampshire vs Worcestershire, 44th Match\", \"match_type\": \"test\", \"status\": \"Day 3: Stumps - Hampshire trail by 372 runs\", \"venue\": \"The Rose Bowl, Southampton\", \"date\": \"2025-06-29\", \"dateTimeGMT\": \"2025-06-29T10:00:00\", \"teams\": [\"Hampshire\", \"Worcestershire\"], \"teamInfo\": [{\"name\": \"Hampshire\", \"shortname\": \"HAM\", \"img\": \"https://g.cricapi.com/iapi/1122-637885550993657486.webp?w=48\"}, {\"name\": \"Worcestershire\", \"shortname\": \"WRCS\", \"img\": \"https://g.cricapi.com/iapi/1138-637889091123850841.webp?w=48\"}], \"score\": [{\"r\": 679, \"w\": 7, \"o\": 160, \"inning\": \"Worcestershire Inning 1\"}, {\"r\": 221, \"w\": 10, \"o\": 90.3, \"inning\": \"Hampshire Inning 1\"}, {\"r\": 86, \"w\": 3, \"o\": 37, \"inning\": \"Worcestershire Inning 2\"}], \"series_id\": \"9362b075-d007-478c-b4a9-e08b9306caef\", \"fantasyEnabled\": true, \"bbbEnabled\": false, \"hasSquad\": true, \"matchStarted\": true, \"matchEnded\": false}                                               |2025-07-01 20:54:35.784689|{true, false, [{\"r\":679,\"w\":7,\"o\":160,\"inning\":\"Worcestershire Inning 1\"}, {\"r\":221,\"w\":10,\"o\":90.3,\"inning\":\"Hampshire Inning 1\"}, {\"r\":86,\"w\":3,\"o\":37,\"inning\":\"Worcestershire Inning 2\"}]}                                                    |Live        |\n",
      "+------------------------------------+---------------------------------------------------------------+---------+--------------------------+-----------------------+--------------------------------------------------------------------------------------------------------------------------------------------------------------------------------------------------------------------------------------------------------------------------------------------------------------------------------------------------------------------------------------------------------------------------------------------------------------------------------------------------------------------------------------------------------------------------------------------------------------------------------------------------------------------------------------------------------------------------------------------------------------------------------------------------------------------------------------------------------------------------------------------------------------------------------------------------------------------------------------------------------------------------------------------------------------------------+--------------------------+--------------------------------------------------------------------------------------------------------------------------------------------------------------------------------------------------------------------------------------------------+------------+\n",
      "\n"
     ]
    }
   ],
   "source": [
    "latest_df.show(truncate=False)  "
   ]
  },
  {
   "cell_type": "markdown",
   "metadata": {},
   "source": [
    "## 5. Generic Method to extract Matches (be it Live or Non-Live)"
   ]
  },
  {
   "cell_type": "code",
   "execution_count": 84,
   "metadata": {},
   "outputs": [],
   "source": [
    "def match_status_wise_filteration (filterText):\n",
    "    json_schema_teams = StructType([\n",
    "        StructField(\"venue\", StringType(), True),\n",
    "        StructField(\"date\", StringType(), True),\n",
    "        StructField(\"teamInfo\", ArrayType(StructType([\n",
    "            StructField(\"name\", StringType(), True),\n",
    "            StructField(\"shortname\", StringType(), True),\n",
    "            StructField(\"img\", StringType(), True)\n",
    "        ])), True)\n",
    "    ])\n",
    "    if filterText == \"Live\":\n",
    "        live_df = latest_df.filter(F.col(\"match_status\") == filterText) \\\n",
    "            .withColumn(\"json_data_parsed\", F.from_json(F.col(\"json_data\"), json_schema_teams)) \\\n",
    "            .select(\n",
    "                \"id\", \"name\", F.upper(\"matchType\").alias(\"matchType\"),\n",
    "                F.col(\"json_data_parsed.venue\"),\n",
    "                F.col(\"json_data_parsed.date\"),\n",
    "                \"match_status\",\n",
    "                F.col(\"json_data_parsed.teamInfo\")[0][\"name\"].alias(\"team1_name\"),\n",
    "                F.col(\"json_data_parsed.teamInfo\")[0][\"shortname\"].alias(\"team1_shortname\"),\n",
    "                F.col(\"json_data_parsed.teamInfo\")[0][\"img\"].alias(\"team1_img\"),\n",
    "                F.col(\"json_data_parsed.teamInfo\")[1][\"name\"].alias(\"team2_name\"),\n",
    "                F.col(\"json_data_parsed.teamInfo\")[1][\"shortname\"].alias(\"team2_shortname\"),\n",
    "                F.col(\"json_data_parsed.teamInfo\")[1][\"img\"].alias(\"team2_img\"),\n",
    "                F.date_format(F.current_timestamp(), \"yyyy-MM-dd HH:mm:ss\").alias(\"EffectiveDateTime\")\n",
    "            )\n",
    "        return live_df\n",
    "    else:\n",
    "        non_live_df = latest_df.filter(F.col(\"match_status\") != \"Live\") \\\n",
    "            .withColumn(\"json_data_parsed\", F.from_json(F.col(\"json_data\"), json_schema_teams)) \\\n",
    "            .select(\n",
    "                \"id\", \"name\", F.upper(\"matchType\").alias(\"matchType\"),\n",
    "                F.col(\"json_data_parsed.venue\"),\n",
    "                F.col(\"json_data_parsed.date\"),\n",
    "                \"match_status\",\n",
    "                F.col(\"json_data_parsed.teamInfo\")[0][\"name\"].alias(\"team1_name\"),\n",
    "                F.col(\"json_data_parsed.teamInfo\")[0][\"shortname\"].alias(\"team1_shortname\"),\n",
    "                F.col(\"json_data_parsed.teamInfo\")[0][\"img\"].alias(\"team1_img\"),\n",
    "                F.col(\"json_data_parsed.teamInfo\")[1][\"name\"].alias(\"team2_name\"),\n",
    "                F.col(\"json_data_parsed.teamInfo\")[1][\"shortname\"].alias(\"team2_shortname\"),\n",
    "                F.col(\"json_data_parsed.teamInfo\")[1][\"img\"].alias(\"team2_img\"),\n",
    "                F.date_format(F.current_timestamp(), \"yyyy-MM-dd HH:mm:ss\").alias(\"EffectiveDateTime\")\n",
    "            )\n",
    "        return non_live_df\n",
    "            \n"
   ]
  },
  {
   "cell_type": "markdown",
   "id": "31fb3dd2",
   "metadata": {},
   "source": [
    "## Fetch LIVE Matches"
   ]
  },
  {
   "cell_type": "code",
   "execution_count": 85,
   "id": "355c51eb",
   "metadata": {},
   "outputs": [],
   "source": [
    "live_df = match_status_wise_filteration(\"Live\")"
   ]
  },
  {
   "cell_type": "markdown",
   "id": "f08124ea",
   "metadata": {},
   "source": [
    "## Fetch Non-Live Matches"
   ]
  },
  {
   "cell_type": "code",
   "execution_count": 86,
   "id": "4b87fa5b",
   "metadata": {},
   "outputs": [],
   "source": [
    "non_live_df = match_status_wise_filteration(\"NonLive\")"
   ]
  },
  {
   "cell_type": "code",
   "execution_count": 87,
   "id": "0b9899bd",
   "metadata": {},
   "outputs": [
    {
     "name": "stdout",
     "output_type": "stream",
     "text": [
      "+--------------------+--------------------+---------+--------------------+----------+------------+--------------------+---------------+--------------------+--------------------+---------------+--------------------+-------------------+\n",
      "|                  id|                name|matchType|               venue|      date|match_status|          team1_name|team1_shortname|           team1_img|          team2_name|team2_shortname|           team2_img|  EffectiveDateTime|\n",
      "+--------------------+--------------------+---------+--------------------+----------+------------+--------------------+---------------+--------------------+--------------------+---------------+--------------------+-------------------+\n",
      "|3a0341c7-6df0-4b5...|Chepauk Super Gil...|      T20|NPR College Groun...|2025-07-01|   Completed|Chepauk Super Gil...|            CSG|https://g.cricapi...|IDream Tiruppur T...|            ITT|https://g.cricapi...|2025-07-02 00:13:38|\n",
      "|b10d079c-2321-47f...|Texas Super Kings...|      T20|Grand Prairie Sta...|2025-06-30|   Completed|         Mi New York|            MNY|https://h.cricapi...|   Texas Super Kings|            TSK|https://h.cricapi...|2025-07-02 00:13:38|\n",
      "|c4ec9ea8-70c0-4f7...|Zimbabwe vs South...|     TEST|Queens Sports Clu...|2025-06-28|   Completed|        South Africa|            RSA|https://g.cricapi...|            Zimbabwe|            ZIM|https://g.cricapi...|2025-07-02 00:13:38|\n",
      "|f554c399-9231-452...|England U19 vs In...|      ODI|County Ground, No...|2025-06-30|   Completed|         England U19|            ENG|https://g.cricapi...|           India U19|           IN19|https://h.cricapi...|2025-07-02 00:13:38|\n",
      "+--------------------+--------------------+---------+--------------------+----------+------------+--------------------+---------------+--------------------+--------------------+---------------+--------------------+-------------------+\n",
      "\n"
     ]
    }
   ],
   "source": [
    "non_live_df.show()"
   ]
  },
  {
   "cell_type": "markdown",
   "metadata": {},
   "source": [
    "## 6. Define Delta Upsert Function (foreachBatch) - LIVE Matches"
   ]
  },
  {
   "cell_type": "code",
   "execution_count": 88,
   "metadata": {},
   "outputs": [],
   "source": [
    "from pyspark.sql.functions import year, month, dayofmonth, col\n",
    "\n",
    "# Define S3 paths\n",
    "target_path = \"s3a://aws-glue-assets-cricket/output_cricket/live/cricket_data\"\n",
    "checkpoint_path = \"s3a://aws-glue-assets-cricket/output_cricket/live/cricket_data/checkpoints\"\n",
    "\n",
    "# Add partition columns to live_df\n",
    "live_df = live_df.withColumn(\"year\", year(col(\"EffectiveDateTime\"))) \\\n",
    "                 .withColumn(\"month\", month(col(\"EffectiveDateTime\"))) \\\n",
    "                 .withColumn(\"day\", dayofmonth(col(\"EffectiveDateTime\")))\n",
    "\n",
    "# Define upsert function using Delta SQL\n",
    "def upsert_to_delta(microBatchDF, batchId):\n",
    "\n",
    "    # Check if Delta table exists\n",
    "    try:\n",
    "        spark.read.format(\"delta\").load(target_path)\n",
    "        table_exists = True\n",
    "    except Exception as e:\n",
    "        table_exists = False\n",
    "\n",
    "    if not table_exists:\n",
    "        # Create the Delta table if it does not exist\n",
    "        microBatchDF.write \\\n",
    "            .format(\"delta\") \\\n",
    "            .partitionBy(\"year\", \"month\", \"day\") \\\n",
    "            .mode(\"overwrite\") \\\n",
    "            .save(target_path)\n",
    "    else:\n",
    "        # Perform upsert (merge) if table exists\n",
    "        microBatchDF.createOrReplaceTempView(\"source_table\")\n",
    "        spark.sql(f\"\"\"\n",
    "            MERGE INTO delta.`{target_path}` AS target\n",
    "            USING source_table AS source\n",
    "            ON target.id = source.id AND target.date = source.date\n",
    "            WHEN MATCHED THEN UPDATE SET *\n",
    "            WHEN NOT MATCHED THEN INSERT *\n",
    "        \"\"\")\n",
    "\n",
    "\n",
    "# Call for batch upsert\n",
    "upsert_to_delta(live_df, 0)\n"
   ]
  },
  {
   "cell_type": "markdown",
   "id": "3b773ae9",
   "metadata": {},
   "source": [
    "## 6. Define Delta Upsert Function (foreachBatch) - NON LIVE Matches"
   ]
  },
  {
   "cell_type": "code",
   "execution_count": 89,
   "id": "24fdb3c1",
   "metadata": {},
   "outputs": [],
   "source": [
    "from pyspark.sql.functions import year, month, dayofmonth, col\n",
    "\n",
    "# Define S3 paths\n",
    "target_path = \"s3a://aws-glue-assets-cricket/output_cricket/nonlive/cricket_data\"\n",
    "checkpoint_path = \"s3a://aws-glue-assets-cricket/output_cricket/nonlive/cricket_data/checkpoints\"\n",
    "\n",
    "# Add partition columns to live_df\n",
    "non_live_df = non_live_df.withColumn(\"year\", year(col(\"EffectiveDateTime\"))) \\\n",
    "                 .withColumn(\"month\", month(col(\"EffectiveDateTime\"))) \\\n",
    "                 .withColumn(\"day\", dayofmonth(col(\"EffectiveDateTime\")))\n",
    "\n",
    "# Define upsert function using Delta SQL\n",
    "def upsert_to_delta(microBatchDF, batchId):\n",
    "\n",
    "    # Check if Delta table exists\n",
    "    try:\n",
    "        spark.read.format(\"delta\").load(target_path)\n",
    "        table_exists = True\n",
    "    except Exception as e:\n",
    "        table_exists = False\n",
    "\n",
    "    if not table_exists:\n",
    "        # Create the Delta table if it does not exist\n",
    "        microBatchDF.write \\\n",
    "            .format(\"delta\") \\\n",
    "            .partitionBy(\"year\", \"month\", \"day\") \\\n",
    "            .mode(\"overwrite\") \\\n",
    "            .save(target_path)\n",
    "    else:\n",
    "        # Perform upsert (merge) if table exists\n",
    "        microBatchDF.createOrReplaceTempView(\"source_table\")\n",
    "        spark.sql(f\"\"\"\n",
    "            MERGE INTO delta.`{target_path}` AS target\n",
    "            USING source_table AS source\n",
    "            ON target.id = source.id AND target.date = source.date\n",
    "            WHEN MATCHED THEN UPDATE SET *\n",
    "            WHEN NOT MATCHED THEN INSERT *\n",
    "        \"\"\")\n",
    "\n",
    "\n",
    "# Call for batch upsert\n",
    "upsert_to_delta(non_live_df, 0)"
   ]
  }
 ],
 "metadata": {
  "kernelspec": {
   "display_name": "Python 3",
   "language": "python",
   "name": "python3"
  },
  "language_info": {
   "codemirror_mode": {
    "name": "ipython",
    "version": 3
   },
   "file_extension": ".py",
   "mimetype": "text/x-python",
   "name": "python",
   "nbconvert_exporter": "python",
   "pygments_lexer": "ipython3",
   "version": "3.10.0"
  }
 },
 "nbformat": 4,
 "nbformat_minor": 5
}
