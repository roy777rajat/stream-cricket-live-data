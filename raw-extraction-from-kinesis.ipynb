{
 "cells": [
  {
   "cell_type": "code",
   "execution_count": 1,
   "id": "a22ac649",
   "metadata": {},
   "outputs": [
    {
     "name": "stdout",
     "output_type": "stream",
     "text": [
      "Starting...\n"
     ]
    }
   ],
   "source": [
    "from pyspark.sql import SparkSession\n",
    "from pyspark.sql.functions import col, from_json, date_format, current_timestamp, to_timestamp\n",
    "from pyspark.sql.types import StructType, StructField, StringType\n",
    "print(\"Starting...\")"
   ]
  },
  {
   "cell_type": "code",
   "execution_count": 5,
   "id": "de9d6cc4",
   "metadata": {},
   "outputs": [
    {
     "name": "stdout",
     "output_type": "stream",
     "text": [
      "Spark session started\n"
     ]
    }
   ],
   "source": [
    "from pyspark.sql import SparkSession\n",
    "\n",
    "spark = SparkSession.builder.appName(\"test\").getOrCreate()\n",
    "print(\"Spark session started\")\n",
    "spark.stop()\n"
   ]
  },
  {
   "cell_type": "code",
   "execution_count": 2,
   "id": "9eea361a",
   "metadata": {},
   "outputs": [],
   "source": [
    "from pyspark.sql import SparkSession\n",
    "\n",
    "spark = SparkSession.builder \\\n",
    "    .appName(\"cricket-kinesis-to-s3-stream\") \\\n",
    "    .config(\"spark.jars\", \"spark-sql-kinesis_2.12-1.2.0_spark-3.0.jar\") \\\n",
    "    .config(\"spark.hadoop.fs.s3a.impl\", \"org.apache.hadoop.fs.s3a.S3AFileSystem\") \\\n",
    "    .config(\"spark.hadoop.fs.s3a.aws.credentials.provider\", \"com.amazonaws.auth.DefaultAWSCredentialsProviderChain\") \\\n",
    "    .getOrCreate()\n"
   ]
  },
  {
   "cell_type": "code",
   "execution_count": null,
   "id": "85273d8e",
   "metadata": {},
   "outputs": [
    {
     "name": "stdout",
     "output_type": "stream",
     "text": [
      "✅ Spark session started\n",
      "🚀 Streaming started. Waiting for records...\n"
     ]
    }
   ],
   "source": [
    "from pyspark.sql import SparkSession\n",
    "from pyspark.sql.functions import col, from_json, date_format, current_timestamp, to_timestamp\n",
    "from pyspark.sql.types import StructType, StructField, StringType\n",
    "\n",
    "# --- HARDCODED CONFIG ---\n",
    "job_name = \"cricket-kinesis-to-s3-stream\"\n",
    "region = \"eu-west-1\"\n",
    "kinesis_stream_name = \"cricket-bball-stream\"\n",
    "s3_output_path = \"s3a://aws-glue-assets-cricket\"\n",
    "\n",
    "# --- Spark session ---\n",
    "spark = SparkSession.builder \\\n",
    "    .appName(job_name) \\\n",
    "    .config(\"spark.jars\", \",\".join([\n",
    "        r\"C:\\spark\\spark-3.5.5-bin-hadoop3\\jars\\spark-sql-kinesis_2.12-1.2.0_spark-3.0.jar\",\n",
    "        r\"C:\\spark\\spark-3.5.5-bin-hadoop3\\jars\\aws-java-sdk-bundle-1.12.430.jar\",\n",
    "        r\"C:\\spark\\spark-3.5.5-bin-hadoop3\\jars\\hadoop-aws-3.3.4.jar\"\n",
    "    ])) \\\n",
    "    .config(\"spark.hadoop.fs.s3a.impl\", \"org.apache.hadoop.fs.s3a.S3AFileSystem\") \\\n",
    "    .config(\"spark.hadoop.fs.s3a.aws.credentials.provider\", \"com.amazonaws.auth.DefaultAWSCredentialsProviderChain\") \\\n",
    "    .getOrCreate()\n",
    "\n",
    "print(\"✅ Spark session started\")\n",
    "\n",
    "# --- Schema for incoming JSON ---\n",
    "partial_schema = StructType([\n",
    "    StructField(\"match_id\", StringType(), True),\n",
    "    StructField(\"match_name\", StringType(), True),\n",
    "    StructField(\"match_type\", StringType(), True),\n",
    "    StructField(\"event_time\", StringType(), True)\n",
    "])\n",
    "\n",
    "# --- Read from Kinesis ---\n",
    "kinesis_df = spark.readStream.format(\"kinesis\") \\\n",
    "    .option(\"streamName\", kinesis_stream_name) \\\n",
    "    .option(\"region\", region) \\\n",
    "    .option(\"endpointUrl\", f\"https://kinesis.{region}.amazonaws.com\") \\\n",
    "    .option(\"startingPosition\", \"TRIM_HORIZON\") \\\n",
    "    .option(\"awsAccessKeyId\", \"AAAAAA\") \\\n",
    "    .option(\"awsSecretKey\", \"BBBBBB\") \\\n",
    "    .load()\n",
    "\n",
    "# --- Transform and enrich ---\n",
    "processed_df = kinesis_df.selectExpr(\"CAST(data AS STRING) as json_data\") \\\n",
    "    .withColumn(\"ingest_ts\", current_timestamp()) \\\n",
    "    .withColumn(\"parsed\", from_json(col(\"json_data\"), partial_schema)) \\\n",
    "    .select(\n",
    "        col(\"parsed.match_id\").alias(\"id\"),\n",
    "        col(\"parsed.match_name\").alias(\"name\"),\n",
    "        col(\"parsed.match_type\").alias(\"matchType\"),\n",
    "        to_timestamp(col(\"parsed.event_time\")).alias(\"event_time\"),\n",
    "        col(\"ingest_ts\").cast(\"string\").alias(\"ingested_at\"),\n",
    "        col(\"json_data\"),\n",
    "        date_format(col(\"ingest_ts\"), \"yyyy\").alias(\"year\"),\n",
    "        date_format(col(\"ingest_ts\"), \"MM\").alias(\"month\"),\n",
    "        date_format(col(\"ingest_ts\"), \"dd\").alias(\"day\"),\n",
    "        date_format(col(\"ingest_ts\"), \"HH\").alias(\"hour\")\n",
    "    )\n",
    "\n",
    "# --- Write to S3 in partitioned Parquet format ---\n",
    "output_path = f\"{s3_output_path}/raw_cricket_data\"\n",
    "checkpoint_path = f\"{s3_output_path}/checkpoints\"\n",
    "\n",
    "query = processed_df.writeStream \\\n",
    "    .format(\"parquet\") \\\n",
    "    .option(\"path\", output_path) \\\n",
    "    .option(\"checkpointLocation\", checkpoint_path) \\\n",
    "    .partitionBy(\"year\", \"month\", \"day\", \"hour\") \\\n",
    "    .outputMode(\"append\") \\\n",
    "    .start()\n",
    "\n",
    "print(\"🚀 Streaming started. Waiting for records...\")\n",
    "query.awaitTermination()\n"
   ]
  },
  {
   "cell_type": "markdown",
   "id": "9150f0d9",
   "metadata": {},
   "source": [
    "## This job will fetch the data from Kinesis stream and put into raw_cricket_data partition based S3 bucket"
   ]
  },
  {
   "cell_type": "code",
   "execution_count": 3,
   "id": "18d69f07",
   "metadata": {},
   "outputs": [
    {
     "name": "stdout",
     "output_type": "stream",
     "text": [
      "✅ Spark session started\n",
      "🚀 Streaming started. Waiting for events...\n"
     ]
    },
    {
     "ename": "StreamingQueryException",
     "evalue": "[STREAM_FAILED] Query [id = 0fe4a5bf-9233-4206-a87a-16e7ec3e3f09, runId = b43e0a9a-96d1-4462-91ff-52a66e28a187] terminated with exception: Error while List shards",
     "output_type": "error",
     "traceback": [
      "\u001b[1;31m---------------------------------------------------------------------------\u001b[0m",
      "\u001b[1;31mStreamingQueryException\u001b[0m                   Traceback (most recent call last)",
      "Cell \u001b[1;32mIn[3], line 64\u001b[0m\n\u001b[0;32m     55\u001b[0m query \u001b[38;5;241m=\u001b[39m processed_df\u001b[38;5;241m.\u001b[39mwriteStream \\\n\u001b[0;32m     56\u001b[0m     \u001b[38;5;241m.\u001b[39mformat(\u001b[38;5;124m\"\u001b[39m\u001b[38;5;124mparquet\u001b[39m\u001b[38;5;124m\"\u001b[39m) \\\n\u001b[0;32m     57\u001b[0m     \u001b[38;5;241m.\u001b[39moption(\u001b[38;5;124m\"\u001b[39m\u001b[38;5;124mpath\u001b[39m\u001b[38;5;124m\"\u001b[39m, s3_output_path) \\\n\u001b[1;32m   (...)\u001b[0m\n\u001b[0;32m     60\u001b[0m     \u001b[38;5;241m.\u001b[39moutputMode(\u001b[38;5;124m\"\u001b[39m\u001b[38;5;124mappend\u001b[39m\u001b[38;5;124m\"\u001b[39m) \\\n\u001b[0;32m     61\u001b[0m     \u001b[38;5;241m.\u001b[39mstart()\n\u001b[0;32m     63\u001b[0m \u001b[38;5;28mprint\u001b[39m(\u001b[38;5;124m\"\u001b[39m\u001b[38;5;124m🚀 Streaming started. Waiting for events...\u001b[39m\u001b[38;5;124m\"\u001b[39m)\n\u001b[1;32m---> 64\u001b[0m \u001b[43mquery\u001b[49m\u001b[38;5;241;43m.\u001b[39;49m\u001b[43mawaitTermination\u001b[49m\u001b[43m(\u001b[49m\u001b[43m)\u001b[49m\n",
      "File \u001b[1;32m~\\AppData\\Roaming\\Python\\Python310\\site-packages\\pyspark\\sql\\streaming\\query.py:221\u001b[0m, in \u001b[0;36mStreamingQuery.awaitTermination\u001b[1;34m(self, timeout)\u001b[0m\n\u001b[0;32m    219\u001b[0m     \u001b[38;5;28;01mreturn\u001b[39;00m \u001b[38;5;28mself\u001b[39m\u001b[38;5;241m.\u001b[39m_jsq\u001b[38;5;241m.\u001b[39mawaitTermination(\u001b[38;5;28mint\u001b[39m(timeout \u001b[38;5;241m*\u001b[39m \u001b[38;5;241m1000\u001b[39m))\n\u001b[0;32m    220\u001b[0m \u001b[38;5;28;01melse\u001b[39;00m:\n\u001b[1;32m--> 221\u001b[0m     \u001b[38;5;28;01mreturn\u001b[39;00m \u001b[38;5;28;43mself\u001b[39;49m\u001b[38;5;241;43m.\u001b[39;49m\u001b[43m_jsq\u001b[49m\u001b[38;5;241;43m.\u001b[39;49m\u001b[43mawaitTermination\u001b[49m\u001b[43m(\u001b[49m\u001b[43m)\u001b[49m\n",
      "File \u001b[1;32m~\\AppData\\Roaming\\Python\\Python310\\site-packages\\py4j\\java_gateway.py:1322\u001b[0m, in \u001b[0;36mJavaMember.__call__\u001b[1;34m(self, *args)\u001b[0m\n\u001b[0;32m   1316\u001b[0m command \u001b[38;5;241m=\u001b[39m proto\u001b[38;5;241m.\u001b[39mCALL_COMMAND_NAME \u001b[38;5;241m+\u001b[39m\\\n\u001b[0;32m   1317\u001b[0m     \u001b[38;5;28mself\u001b[39m\u001b[38;5;241m.\u001b[39mcommand_header \u001b[38;5;241m+\u001b[39m\\\n\u001b[0;32m   1318\u001b[0m     args_command \u001b[38;5;241m+\u001b[39m\\\n\u001b[0;32m   1319\u001b[0m     proto\u001b[38;5;241m.\u001b[39mEND_COMMAND_PART\n\u001b[0;32m   1321\u001b[0m answer \u001b[38;5;241m=\u001b[39m \u001b[38;5;28mself\u001b[39m\u001b[38;5;241m.\u001b[39mgateway_client\u001b[38;5;241m.\u001b[39msend_command(command)\n\u001b[1;32m-> 1322\u001b[0m return_value \u001b[38;5;241m=\u001b[39m \u001b[43mget_return_value\u001b[49m\u001b[43m(\u001b[49m\n\u001b[0;32m   1323\u001b[0m \u001b[43m    \u001b[49m\u001b[43manswer\u001b[49m\u001b[43m,\u001b[49m\u001b[43m \u001b[49m\u001b[38;5;28;43mself\u001b[39;49m\u001b[38;5;241;43m.\u001b[39;49m\u001b[43mgateway_client\u001b[49m\u001b[43m,\u001b[49m\u001b[43m \u001b[49m\u001b[38;5;28;43mself\u001b[39;49m\u001b[38;5;241;43m.\u001b[39;49m\u001b[43mtarget_id\u001b[49m\u001b[43m,\u001b[49m\u001b[43m \u001b[49m\u001b[38;5;28;43mself\u001b[39;49m\u001b[38;5;241;43m.\u001b[39;49m\u001b[43mname\u001b[49m\u001b[43m)\u001b[49m\n\u001b[0;32m   1325\u001b[0m \u001b[38;5;28;01mfor\u001b[39;00m temp_arg \u001b[38;5;129;01min\u001b[39;00m temp_args:\n\u001b[0;32m   1326\u001b[0m     \u001b[38;5;28;01mif\u001b[39;00m \u001b[38;5;28mhasattr\u001b[39m(temp_arg, \u001b[38;5;124m\"\u001b[39m\u001b[38;5;124m_detach\u001b[39m\u001b[38;5;124m\"\u001b[39m):\n",
      "File \u001b[1;32m~\\AppData\\Roaming\\Python\\Python310\\site-packages\\pyspark\\errors\\exceptions\\captured.py:185\u001b[0m, in \u001b[0;36mcapture_sql_exception.<locals>.deco\u001b[1;34m(*a, **kw)\u001b[0m\n\u001b[0;32m    181\u001b[0m converted \u001b[38;5;241m=\u001b[39m convert_exception(e\u001b[38;5;241m.\u001b[39mjava_exception)\n\u001b[0;32m    182\u001b[0m \u001b[38;5;28;01mif\u001b[39;00m \u001b[38;5;129;01mnot\u001b[39;00m \u001b[38;5;28misinstance\u001b[39m(converted, UnknownException):\n\u001b[0;32m    183\u001b[0m     \u001b[38;5;66;03m# Hide where the exception came from that shows a non-Pythonic\u001b[39;00m\n\u001b[0;32m    184\u001b[0m     \u001b[38;5;66;03m# JVM exception message.\u001b[39;00m\n\u001b[1;32m--> 185\u001b[0m     \u001b[38;5;28;01mraise\u001b[39;00m converted \u001b[38;5;28;01mfrom\u001b[39;00m\u001b[38;5;250m \u001b[39m\u001b[38;5;28;01mNone\u001b[39;00m\n\u001b[0;32m    186\u001b[0m \u001b[38;5;28;01melse\u001b[39;00m:\n\u001b[0;32m    187\u001b[0m     \u001b[38;5;28;01mraise\u001b[39;00m\n",
      "\u001b[1;31mStreamingQueryException\u001b[0m: [STREAM_FAILED] Query [id = 0fe4a5bf-9233-4206-a87a-16e7ec3e3f09, runId = b43e0a9a-96d1-4462-91ff-52a66e28a187] terminated with exception: Error while List shards"
     ]
    }
   ],
   "source": [
    "from pyspark.sql import SparkSession\n",
    "from pyspark.sql.functions import col, from_json, current_timestamp, to_timestamp, date_format\n",
    "from pyspark.sql.types import StructType, StructField, StringType\n",
    "\n",
    "# --- Config ---\n",
    "job_name = \"cricket-kinesis-to-s3-stream\"\n",
    "region = \"eu-west-1\"\n",
    "kinesis_stream_name = \"cricket-bball-stream\"\n",
    "s3_output_path = \"s3a://aws-glue-assets-cricket/raw_cricket_data\"\n",
    "checkpoint_path = \"s3a://aws-glue-assets-cricket/checkpoints/raw_kinesis\"\n",
    "\n",
    "# --- Spark Session ---\n",
    "spark = SparkSession.builder \\\n",
    "    .appName(job_name) \\\n",
    "    .config(\"spark.jars\", \"spark-sql-kinesis_2.12-1.2.0_spark-3.0.jar\") \\\n",
    "    .config(\"spark.hadoop.fs.s3a.impl\", \"org.apache.hadoop.fs.s3a.S3AFileSystem\") \\\n",
    "    .config(\"spark.hadoop.fs.s3a.aws.credentials.provider\", \"com.amazonaws.auth.DefaultAWSCredentialsProviderChain\") \\\n",
    "    .getOrCreate()\n",
    "\n",
    "print(\"✅ Spark session started\")\n",
    "\n",
    "# --- Schema ---\n",
    "schema = StructType([\n",
    "    StructField(\"match_id\", StringType()),\n",
    "    StructField(\"match_name\", StringType()),\n",
    "    StructField(\"match_type\", StringType()),\n",
    "    StructField(\"event_time\", StringType())  # API timestamp\n",
    "])\n",
    "\n",
    "# --- Kinesis Source ---\n",
    "kinesis_df = spark.readStream.format(\"kinesis\") \\\n",
    "    .option(\"streamName\", kinesis_stream_name) \\\n",
    "    .option(\"region\", region) \\\n",
    "    .option(\"endpointUrl\", f\"https://kinesis.{region}.amazonaws.com\") \\\n",
    "    .option(\"startingPosition\", \"LATEST\") \\\n",
    "    .load()\n",
    "\n",
    "# --- Processing ---\n",
    "processed_df = kinesis_df.selectExpr(\"CAST(data AS STRING) as json_data\") \\\n",
    "    .withColumn(\"ingest_ts\", current_timestamp()) \\\n",
    "    .withColumn(\"parsed\", from_json(col(\"json_data\"), schema)) \\\n",
    "    .select(\n",
    "        col(\"parsed.match_id\").alias(\"id\"),\n",
    "        col(\"parsed.match_name\").alias(\"name\"),\n",
    "        col(\"parsed.match_type\").alias(\"matchType\"),\n",
    "        to_timestamp(col(\"parsed.event_time\")).alias(\"event_time\"),\n",
    "        col(\"json_data\"),\n",
    "        date_format(col(\"ingest_ts\"), \"yyyy\").alias(\"year\"),\n",
    "        date_format(col(\"ingest_ts\"), \"MM\").alias(\"month\"),\n",
    "        date_format(col(\"ingest_ts\"), \"dd\").alias(\"day\"),\n",
    "        date_format(col(\"ingest_ts\"), \"HH\").alias(\"hour\")\n",
    "    )\n",
    "\n",
    "# --- Write to S3 ---\n",
    "query = processed_df.writeStream \\\n",
    "    .format(\"parquet\") \\\n",
    "    .option(\"path\", s3_output_path) \\\n",
    "    .option(\"checkpointLocation\", checkpoint_path) \\\n",
    "    .partitionBy(\"year\", \"month\", \"day\", \"hour\") \\\n",
    "    .outputMode(\"append\") \\\n",
    "    .start()\n",
    "\n",
    "print(\"🚀 Streaming started. Waiting for events...\")\n",
    "query.awaitTermination()\n"
   ]
  }
 ],
 "metadata": {
  "kernelspec": {
   "display_name": "Python 3",
   "language": "python",
   "name": "python3"
  },
  "language_info": {
   "codemirror_mode": {
    "name": "ipython",
    "version": 3
   },
   "file_extension": ".py",
   "mimetype": "text/x-python",
   "name": "python",
   "nbconvert_exporter": "python",
   "pygments_lexer": "ipython3",
   "version": "3.10.0"
  }
 },
 "nbformat": 4,
 "nbformat_minor": 5
}
